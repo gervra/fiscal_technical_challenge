{
 "cells": [
  {
   "cell_type": "code",
   "execution_count": 1,
   "metadata": {},
   "outputs": [],
   "source": [
    "import numpy as np\n",
    "import pandas as pd\n",
    "import matplotlib.pyplot as plt\n",
    "import seaborn as sns\n",
    "%matplotlib inline"
   ]
  },
  {
   "cell_type": "markdown",
   "metadata": {},
   "source": [
    "# Load Preprocessed data"
   ]
  },
  {
   "cell_type": "code",
   "execution_count": 2,
   "metadata": {},
   "outputs": [
    {
     "name": "stderr",
     "output_type": "stream",
     "text": [
      "C:\\Users\\gerasimos\\anaconda3\\lib\\site-packages\\IPython\\core\\interactiveshell.py:3146: DtypeWarning: Columns (6,11,12,14,15) have mixed types.Specify dtype option on import or set low_memory=False.\n",
      "  has_raised = await self.run_ast_nodes(code_ast.body, cell_name,\n"
     ]
    },
    {
     "data": {
      "text/html": [
       "<div>\n",
       "<style scoped>\n",
       "    .dataframe tbody tr th:only-of-type {\n",
       "        vertical-align: middle;\n",
       "    }\n",
       "\n",
       "    .dataframe tbody tr th {\n",
       "        vertical-align: top;\n",
       "    }\n",
       "\n",
       "    .dataframe thead th {\n",
       "        text-align: right;\n",
       "    }\n",
       "</style>\n",
       "<table border=\"1\" class=\"dataframe\">\n",
       "  <thead>\n",
       "    <tr style=\"text-align: right;\">\n",
       "      <th></th>\n",
       "      <th>InvoiceAmount</th>\n",
       "      <th>AmountCategory</th>\n",
       "      <th>InvoiceDate</th>\n",
       "      <th>InvoiceYear</th>\n",
       "      <th>EnteredDate</th>\n",
       "      <th>Days_to_Enter</th>\n",
       "      <th>SupplierRef</th>\n",
       "      <th>PaidDate</th>\n",
       "      <th>Days_to_Pay</th>\n",
       "      <th>PaidYear</th>\n",
       "      <th>PaymentStatus</th>\n",
       "      <th>DocumentType</th>\n",
       "      <th>PaymentType</th>\n",
       "      <th>ModifiedDate</th>\n",
       "      <th>UserID</th>\n",
       "      <th>PostedDate</th>\n",
       "      <th>Invoicecurrency</th>\n",
       "      <th>ConfirmedRisk</th>\n",
       "      <th>Client</th>\n",
       "      <th>InvoiceType</th>\n",
       "    </tr>\n",
       "  </thead>\n",
       "  <tbody>\n",
       "    <tr>\n",
       "      <th>0</th>\n",
       "      <td>1.78</td>\n",
       "      <td>&lt;100</td>\n",
       "      <td>2016-12-18 00:00:00.000</td>\n",
       "      <td>2016.0</td>\n",
       "      <td>2016-03-10 00:00:00.000</td>\n",
       "      <td>NaN</td>\n",
       "      <td>ONE007</td>\n",
       "      <td>2016-06-07 00:00:00.000</td>\n",
       "      <td>NaN</td>\n",
       "      <td>2016.0</td>\n",
       "      <td>F</td>\n",
       "      <td>PI</td>\n",
       "      <td>PB</td>\n",
       "      <td>2021-07-16 13:20:05.177</td>\n",
       "      <td>SB24</td>\n",
       "      <td>2016-03-11 00:00:00.000</td>\n",
       "      <td>GBP</td>\n",
       "      <td>0.0</td>\n",
       "      <td>A</td>\n",
       "      <td>Invoice</td>\n",
       "    </tr>\n",
       "    <tr>\n",
       "      <th>1</th>\n",
       "      <td>50.23</td>\n",
       "      <td>&lt;100</td>\n",
       "      <td>2019-03-23 00:00:00.000</td>\n",
       "      <td>2019.0</td>\n",
       "      <td>2016-04-04 00:00:00.000</td>\n",
       "      <td>NaN</td>\n",
       "      <td>XMA001</td>\n",
       "      <td>2016-06-01 00:00:00.000</td>\n",
       "      <td>NaN</td>\n",
       "      <td>2016.0</td>\n",
       "      <td>F</td>\n",
       "      <td>PI</td>\n",
       "      <td>PB</td>\n",
       "      <td>2021-07-16 13:20:05.177</td>\n",
       "      <td>DT61</td>\n",
       "      <td>2016-04-04 00:00:00.000</td>\n",
       "      <td>GBP</td>\n",
       "      <td>NaN</td>\n",
       "      <td>A</td>\n",
       "      <td>Invoice</td>\n",
       "    </tr>\n",
       "    <tr>\n",
       "      <th>2</th>\n",
       "      <td>639.00</td>\n",
       "      <td>100-1k</td>\n",
       "      <td>2016-12-22 00:00:00.000</td>\n",
       "      <td>2016.0</td>\n",
       "      <td>2016-04-26 00:00:00.000</td>\n",
       "      <td>NaN</td>\n",
       "      <td>LAN080</td>\n",
       "      <td>2016-07-12 00:00:00.000</td>\n",
       "      <td>NaN</td>\n",
       "      <td>2016.0</td>\n",
       "      <td>F</td>\n",
       "      <td>PI</td>\n",
       "      <td>PB</td>\n",
       "      <td>2021-07-16 13:20:05.177</td>\n",
       "      <td>SB24</td>\n",
       "      <td>2016-05-03 00:00:00.000</td>\n",
       "      <td>GBP</td>\n",
       "      <td>NaN</td>\n",
       "      <td>A</td>\n",
       "      <td>Invoice</td>\n",
       "    </tr>\n",
       "    <tr>\n",
       "      <th>3</th>\n",
       "      <td>1045.00</td>\n",
       "      <td>1k-10k</td>\n",
       "      <td>2016-12-22 00:00:00.000</td>\n",
       "      <td>2016.0</td>\n",
       "      <td>2016-04-26 00:00:00.000</td>\n",
       "      <td>NaN</td>\n",
       "      <td>LAN080</td>\n",
       "      <td>2016-07-12 00:00:00.000</td>\n",
       "      <td>NaN</td>\n",
       "      <td>2016.0</td>\n",
       "      <td>F</td>\n",
       "      <td>PI</td>\n",
       "      <td>PB</td>\n",
       "      <td>2021-07-16 13:20:05.177</td>\n",
       "      <td>SB24</td>\n",
       "      <td>2016-05-03 00:00:00.000</td>\n",
       "      <td>GBP</td>\n",
       "      <td>NaN</td>\n",
       "      <td>A</td>\n",
       "      <td>Invoice</td>\n",
       "    </tr>\n",
       "    <tr>\n",
       "      <th>4</th>\n",
       "      <td>33.73</td>\n",
       "      <td>&lt;100</td>\n",
       "      <td>2019-06-22 00:00:00.000</td>\n",
       "      <td>2019.0</td>\n",
       "      <td>2016-07-14 00:00:00.000</td>\n",
       "      <td>NaN</td>\n",
       "      <td>DAW002</td>\n",
       "      <td>2016-09-06 00:00:00.000</td>\n",
       "      <td>NaN</td>\n",
       "      <td>2016.0</td>\n",
       "      <td>F</td>\n",
       "      <td>PI</td>\n",
       "      <td>PB</td>\n",
       "      <td>2021-07-16 13:20:05.177</td>\n",
       "      <td>DT61</td>\n",
       "      <td>2016-07-18 00:00:00.000</td>\n",
       "      <td>GBP</td>\n",
       "      <td>NaN</td>\n",
       "      <td>A</td>\n",
       "      <td>Invoice</td>\n",
       "    </tr>\n",
       "  </tbody>\n",
       "</table>\n",
       "</div>"
      ],
      "text/plain": [
       "   InvoiceAmount AmountCategory              InvoiceDate  InvoiceYear  \\\n",
       "0           1.78           <100  2016-12-18 00:00:00.000       2016.0   \n",
       "1          50.23           <100  2019-03-23 00:00:00.000       2019.0   \n",
       "2         639.00         100-1k  2016-12-22 00:00:00.000       2016.0   \n",
       "3        1045.00         1k-10k  2016-12-22 00:00:00.000       2016.0   \n",
       "4          33.73           <100  2019-06-22 00:00:00.000       2019.0   \n",
       "\n",
       "               EnteredDate  Days_to_Enter SupplierRef  \\\n",
       "0  2016-03-10 00:00:00.000            NaN      ONE007   \n",
       "1  2016-04-04 00:00:00.000            NaN      XMA001   \n",
       "2  2016-04-26 00:00:00.000            NaN      LAN080   \n",
       "3  2016-04-26 00:00:00.000            NaN      LAN080   \n",
       "4  2016-07-14 00:00:00.000            NaN      DAW002   \n",
       "\n",
       "                  PaidDate  Days_to_Pay  PaidYear PaymentStatus DocumentType  \\\n",
       "0  2016-06-07 00:00:00.000          NaN    2016.0             F           PI   \n",
       "1  2016-06-01 00:00:00.000          NaN    2016.0             F           PI   \n",
       "2  2016-07-12 00:00:00.000          NaN    2016.0             F           PI   \n",
       "3  2016-07-12 00:00:00.000          NaN    2016.0             F           PI   \n",
       "4  2016-09-06 00:00:00.000          NaN    2016.0             F           PI   \n",
       "\n",
       "  PaymentType             ModifiedDate UserID               PostedDate  \\\n",
       "0          PB  2021-07-16 13:20:05.177   SB24  2016-03-11 00:00:00.000   \n",
       "1          PB  2021-07-16 13:20:05.177   DT61  2016-04-04 00:00:00.000   \n",
       "2          PB  2021-07-16 13:20:05.177   SB24  2016-05-03 00:00:00.000   \n",
       "3          PB  2021-07-16 13:20:05.177   SB24  2016-05-03 00:00:00.000   \n",
       "4          PB  2021-07-16 13:20:05.177   DT61  2016-07-18 00:00:00.000   \n",
       "\n",
       "  Invoicecurrency  ConfirmedRisk Client InvoiceType  \n",
       "0             GBP            0.0      A     Invoice  \n",
       "1             GBP            NaN      A     Invoice  \n",
       "2             GBP            NaN      A     Invoice  \n",
       "3             GBP            NaN      A     Invoice  \n",
       "4             GBP            NaN      A     Invoice  "
      ]
     },
     "execution_count": 2,
     "metadata": {},
     "output_type": "execute_result"
    }
   ],
   "source": [
    "# load data after the processing in part A\n",
    "df=pd.read_csv(\"preprocessed_data.csv\")\n",
    "df.head()"
   ]
  },
  {
   "cell_type": "code",
   "execution_count": 3,
   "metadata": {},
   "outputs": [
    {
     "name": "stdout",
     "output_type": "stream",
     "text": [
      "<class 'pandas.core.frame.DataFrame'>\n",
      "RangeIndex: 3644635 entries, 0 to 3644634\n",
      "Data columns (total 20 columns):\n",
      " #   Column           Dtype  \n",
      "---  ------           -----  \n",
      " 0   InvoiceAmount    float64\n",
      " 1   AmountCategory   object \n",
      " 2   InvoiceDate      object \n",
      " 3   InvoiceYear      float64\n",
      " 4   EnteredDate      object \n",
      " 5   Days_to_Enter    float64\n",
      " 6   SupplierRef      object \n",
      " 7   PaidDate         object \n",
      " 8   Days_to_Pay      float64\n",
      " 9   PaidYear         float64\n",
      " 10  PaymentStatus    object \n",
      " 11  DocumentType     object \n",
      " 12  PaymentType      object \n",
      " 13  ModifiedDate     object \n",
      " 14  UserID           object \n",
      " 15  PostedDate       object \n",
      " 16  Invoicecurrency  object \n",
      " 17  ConfirmedRisk    float64\n",
      " 18  Client           object \n",
      " 19  InvoiceType      object \n",
      "dtypes: float64(6), object(14)\n",
      "memory usage: 556.1+ MB\n"
     ]
    }
   ],
   "source": [
    "df.info()"
   ]
  },
  {
   "cell_type": "markdown",
   "metadata": {},
   "source": [
    "# Deal with missing values"
   ]
  },
  {
   "cell_type": "code",
   "execution_count": 4,
   "metadata": {},
   "outputs": [],
   "source": [
    "# the entries with NaN values in ConfirmedRisk have to be deleted \n",
    "# since they don't provide information for the class of the entry\n",
    "\n",
    "df = df[df[\"ConfirmedRisk\"].isnull()==False]"
   ]
  },
  {
   "cell_type": "code",
   "execution_count": 5,
   "metadata": {},
   "outputs": [],
   "source": [
    "# drop columns that cannot be used in modelling\n",
    "\n",
    "df.drop([\"InvoiceDate\", \"EnteredDate\", \"PaidDate\", \"ModifiedDate\", \"PostedDate\", \"SupplierRef\"],axis=1, inplace=True)"
   ]
  },
  {
   "cell_type": "code",
   "execution_count": 6,
   "metadata": {},
   "outputs": [
    {
     "data": {
      "text/plain": [
       "124"
      ]
     },
     "execution_count": 6,
     "metadata": {},
     "output_type": "execute_result"
    }
   ],
   "source": [
    "# check what to do with UserID\n",
    "\n",
    "len(df[\"UserID\"].unique())"
   ]
  },
  {
   "cell_type": "code",
   "execution_count": 7,
   "metadata": {},
   "outputs": [],
   "source": [
    "# could one-hot-encode UserID but would increase dramatically the dimensiolatiy of the data \n",
    "# without adding significant value (at least intuitively)\n",
    "#drop UserID column\n",
    "\n",
    "df.drop(\"UserID\",axis=1, inplace=True)"
   ]
  },
  {
   "cell_type": "code",
   "execution_count": 8,
   "metadata": {},
   "outputs": [
    {
     "data": {
      "text/html": [
       "<div>\n",
       "<style scoped>\n",
       "    .dataframe tbody tr th:only-of-type {\n",
       "        vertical-align: middle;\n",
       "    }\n",
       "\n",
       "    .dataframe tbody tr th {\n",
       "        vertical-align: top;\n",
       "    }\n",
       "\n",
       "    .dataframe thead th {\n",
       "        text-align: right;\n",
       "    }\n",
       "</style>\n",
       "<table border=\"1\" class=\"dataframe\">\n",
       "  <thead>\n",
       "    <tr style=\"text-align: right;\">\n",
       "      <th></th>\n",
       "      <th>InvoiceAmount</th>\n",
       "      <th>AmountCategory</th>\n",
       "      <th>InvoiceYear</th>\n",
       "      <th>Days_to_Enter</th>\n",
       "      <th>Days_to_Pay</th>\n",
       "      <th>PaidYear</th>\n",
       "      <th>PaymentStatus</th>\n",
       "      <th>DocumentType</th>\n",
       "      <th>PaymentType</th>\n",
       "      <th>Invoicecurrency</th>\n",
       "      <th>ConfirmedRisk</th>\n",
       "      <th>Client</th>\n",
       "      <th>InvoiceType</th>\n",
       "    </tr>\n",
       "  </thead>\n",
       "  <tbody>\n",
       "    <tr>\n",
       "      <th>0</th>\n",
       "      <td>1.78</td>\n",
       "      <td>&lt;100</td>\n",
       "      <td>2016.0</td>\n",
       "      <td>NaN</td>\n",
       "      <td>NaN</td>\n",
       "      <td>2016.0</td>\n",
       "      <td>F</td>\n",
       "      <td>PI</td>\n",
       "      <td>PB</td>\n",
       "      <td>GBP</td>\n",
       "      <td>0.0</td>\n",
       "      <td>A</td>\n",
       "      <td>Invoice</td>\n",
       "    </tr>\n",
       "    <tr>\n",
       "      <th>7</th>\n",
       "      <td>77.22</td>\n",
       "      <td>&lt;100</td>\n",
       "      <td>2016.0</td>\n",
       "      <td>NaN</td>\n",
       "      <td>19.0</td>\n",
       "      <td>2016.0</td>\n",
       "      <td>F</td>\n",
       "      <td>PI</td>\n",
       "      <td>PB</td>\n",
       "      <td>GBP</td>\n",
       "      <td>0.0</td>\n",
       "      <td>A</td>\n",
       "      <td>Invoice</td>\n",
       "    </tr>\n",
       "    <tr>\n",
       "      <th>8</th>\n",
       "      <td>154.44</td>\n",
       "      <td>100-1k</td>\n",
       "      <td>2016.0</td>\n",
       "      <td>NaN</td>\n",
       "      <td>19.0</td>\n",
       "      <td>2016.0</td>\n",
       "      <td>F</td>\n",
       "      <td>PI</td>\n",
       "      <td>PB</td>\n",
       "      <td>GBP</td>\n",
       "      <td>0.0</td>\n",
       "      <td>A</td>\n",
       "      <td>Invoice</td>\n",
       "    </tr>\n",
       "    <tr>\n",
       "      <th>9</th>\n",
       "      <td>300.00</td>\n",
       "      <td>100-1k</td>\n",
       "      <td>2016.0</td>\n",
       "      <td>0.0</td>\n",
       "      <td>8.0</td>\n",
       "      <td>2016.0</td>\n",
       "      <td>F</td>\n",
       "      <td>PI</td>\n",
       "      <td>PB</td>\n",
       "      <td>GBP</td>\n",
       "      <td>0.0</td>\n",
       "      <td>A</td>\n",
       "      <td>Invoice</td>\n",
       "    </tr>\n",
       "    <tr>\n",
       "      <th>10</th>\n",
       "      <td>500.00</td>\n",
       "      <td>100-1k</td>\n",
       "      <td>2016.0</td>\n",
       "      <td>0.0</td>\n",
       "      <td>8.0</td>\n",
       "      <td>2016.0</td>\n",
       "      <td>F</td>\n",
       "      <td>PI</td>\n",
       "      <td>PB</td>\n",
       "      <td>GBP</td>\n",
       "      <td>0.0</td>\n",
       "      <td>A</td>\n",
       "      <td>Invoice</td>\n",
       "    </tr>\n",
       "  </tbody>\n",
       "</table>\n",
       "</div>"
      ],
      "text/plain": [
       "    InvoiceAmount AmountCategory  InvoiceYear  Days_to_Enter  Days_to_Pay  \\\n",
       "0            1.78           <100       2016.0            NaN          NaN   \n",
       "7           77.22           <100       2016.0            NaN         19.0   \n",
       "8          154.44         100-1k       2016.0            NaN         19.0   \n",
       "9          300.00         100-1k       2016.0            0.0          8.0   \n",
       "10         500.00         100-1k       2016.0            0.0          8.0   \n",
       "\n",
       "    PaidYear PaymentStatus DocumentType PaymentType Invoicecurrency  \\\n",
       "0     2016.0             F           PI          PB             GBP   \n",
       "7     2016.0             F           PI          PB             GBP   \n",
       "8     2016.0             F           PI          PB             GBP   \n",
       "9     2016.0             F           PI          PB             GBP   \n",
       "10    2016.0             F           PI          PB             GBP   \n",
       "\n",
       "    ConfirmedRisk Client InvoiceType  \n",
       "0             0.0      A     Invoice  \n",
       "7             0.0      A     Invoice  \n",
       "8             0.0      A     Invoice  \n",
       "9             0.0      A     Invoice  \n",
       "10            0.0      A     Invoice  "
      ]
     },
     "execution_count": 8,
     "metadata": {},
     "output_type": "execute_result"
    }
   ],
   "source": [
    "df.head()"
   ]
  },
  {
   "cell_type": "code",
   "execution_count": 9,
   "metadata": {},
   "outputs": [
    {
     "name": "stdout",
     "output_type": "stream",
     "text": [
      "InvoiceAmount missing values: \t0 (0.0%)\n",
      "AmountCategory missing values: \t0 (0.0%)\n",
      "InvoiceYear missing values: \t2 (0.0%)\n",
      "Days_to_Enter missing values: \t4266 (0.39%)\n",
      "Days_to_Pay missing values: \t811431 (74.15%)\n",
      "PaidYear missing values: \t810933 (74.11%)\n",
      "PaymentStatus missing values: \t3990 (0.36%)\n",
      "DocumentType missing values: \t57859 (5.29%)\n",
      "PaymentType missing values: \t890979 (81.42%)\n",
      "Invoicecurrency missing values: \t0 (0.0%)\n",
      "ConfirmedRisk missing values: \t0 (0.0%)\n",
      "Client missing values: \t0 (0.0%)\n",
      "InvoiceType missing values: \t0 (0.0%)\n"
     ]
    }
   ],
   "source": [
    "#check for missing values\n",
    "total = df.shape[0]\n",
    "\n",
    "cols = list(df.columns)\n",
    "\n",
    "for column in cols:\n",
    "    print(f\"{column} missing values: \\t{df[column].isnull().sum()} ({round(df[column].isnull().sum()/total*100,2)}%)\")"
   ]
  },
  {
   "cell_type": "code",
   "execution_count": 10,
   "metadata": {},
   "outputs": [],
   "source": [
    "#Drop columns with more than 70% missing values\n",
    "df.drop([\"Days_to_Pay\", \"PaidYear\", \"PaymentType\"], axis=1, inplace=True)\n",
    "\n",
    "\n",
    "#only a small proportion of numerical values are missin. Fill with the mean value\n",
    "df[\"InvoiceYear\"].fillna(df[\"InvoiceYear\"].mean(), inplace=True)\n",
    "df[\"Days_to_Enter\"].fillna(df[\"Days_to_Enter\"].mean(), inplace=True)\n",
    "\n",
    "#Fill with \"Other\" missing categorical values with less than 10% missing data\n",
    "df[\"PaymentStatus\"].fillna(\"Other\", inplace=True)\n",
    "df[\"DocumentType\"].fillna(\"Other\", inplace=True)"
   ]
  },
  {
   "cell_type": "markdown",
   "metadata": {},
   "source": [
    " "
   ]
  },
  {
   "cell_type": "markdown",
   "metadata": {},
   "source": [
    " "
   ]
  },
  {
   "cell_type": "markdown",
   "metadata": {},
   "source": [
    "# One-Hot-Encoding"
   ]
  },
  {
   "cell_type": "code",
   "execution_count": 11,
   "metadata": {},
   "outputs": [],
   "source": [
    "df = pd.get_dummies(data=df)"
   ]
  },
  {
   "cell_type": "code",
   "execution_count": 12,
   "metadata": {},
   "outputs": [
    {
     "data": {
      "text/html": [
       "<div>\n",
       "<style scoped>\n",
       "    .dataframe tbody tr th:only-of-type {\n",
       "        vertical-align: middle;\n",
       "    }\n",
       "\n",
       "    .dataframe tbody tr th {\n",
       "        vertical-align: top;\n",
       "    }\n",
       "\n",
       "    .dataframe thead th {\n",
       "        text-align: right;\n",
       "    }\n",
       "</style>\n",
       "<table border=\"1\" class=\"dataframe\">\n",
       "  <thead>\n",
       "    <tr style=\"text-align: right;\">\n",
       "      <th></th>\n",
       "      <th>InvoiceAmount</th>\n",
       "      <th>InvoiceYear</th>\n",
       "      <th>Days_to_Enter</th>\n",
       "      <th>ConfirmedRisk</th>\n",
       "      <th>AmountCategory_100-1k</th>\n",
       "      <th>AmountCategory_10k-100k</th>\n",
       "      <th>AmountCategory_1k-10k</th>\n",
       "      <th>AmountCategory_&lt;100</th>\n",
       "      <th>AmountCategory_&gt;100k</th>\n",
       "      <th>PaymentStatus_#</th>\n",
       "      <th>...</th>\n",
       "      <th>Invoicecurrency_EUR</th>\n",
       "      <th>Invoicecurrency_GBP</th>\n",
       "      <th>Invoicecurrency_NOK</th>\n",
       "      <th>Invoicecurrency_PLN</th>\n",
       "      <th>Invoicecurrency_USD</th>\n",
       "      <th>Client_A</th>\n",
       "      <th>Client_B</th>\n",
       "      <th>Client_C</th>\n",
       "      <th>InvoiceType_Credit</th>\n",
       "      <th>InvoiceType_Invoice</th>\n",
       "    </tr>\n",
       "  </thead>\n",
       "  <tbody>\n",
       "    <tr>\n",
       "      <th>0</th>\n",
       "      <td>1.78</td>\n",
       "      <td>2016.0</td>\n",
       "      <td>20.952042</td>\n",
       "      <td>0.0</td>\n",
       "      <td>0</td>\n",
       "      <td>0</td>\n",
       "      <td>0</td>\n",
       "      <td>1</td>\n",
       "      <td>0</td>\n",
       "      <td>0</td>\n",
       "      <td>...</td>\n",
       "      <td>0</td>\n",
       "      <td>1</td>\n",
       "      <td>0</td>\n",
       "      <td>0</td>\n",
       "      <td>0</td>\n",
       "      <td>1</td>\n",
       "      <td>0</td>\n",
       "      <td>0</td>\n",
       "      <td>0</td>\n",
       "      <td>1</td>\n",
       "    </tr>\n",
       "    <tr>\n",
       "      <th>7</th>\n",
       "      <td>77.22</td>\n",
       "      <td>2016.0</td>\n",
       "      <td>20.952042</td>\n",
       "      <td>0.0</td>\n",
       "      <td>0</td>\n",
       "      <td>0</td>\n",
       "      <td>0</td>\n",
       "      <td>1</td>\n",
       "      <td>0</td>\n",
       "      <td>0</td>\n",
       "      <td>...</td>\n",
       "      <td>0</td>\n",
       "      <td>1</td>\n",
       "      <td>0</td>\n",
       "      <td>0</td>\n",
       "      <td>0</td>\n",
       "      <td>1</td>\n",
       "      <td>0</td>\n",
       "      <td>0</td>\n",
       "      <td>0</td>\n",
       "      <td>1</td>\n",
       "    </tr>\n",
       "    <tr>\n",
       "      <th>8</th>\n",
       "      <td>154.44</td>\n",
       "      <td>2016.0</td>\n",
       "      <td>20.952042</td>\n",
       "      <td>0.0</td>\n",
       "      <td>1</td>\n",
       "      <td>0</td>\n",
       "      <td>0</td>\n",
       "      <td>0</td>\n",
       "      <td>0</td>\n",
       "      <td>0</td>\n",
       "      <td>...</td>\n",
       "      <td>0</td>\n",
       "      <td>1</td>\n",
       "      <td>0</td>\n",
       "      <td>0</td>\n",
       "      <td>0</td>\n",
       "      <td>1</td>\n",
       "      <td>0</td>\n",
       "      <td>0</td>\n",
       "      <td>0</td>\n",
       "      <td>1</td>\n",
       "    </tr>\n",
       "    <tr>\n",
       "      <th>9</th>\n",
       "      <td>300.00</td>\n",
       "      <td>2016.0</td>\n",
       "      <td>0.000000</td>\n",
       "      <td>0.0</td>\n",
       "      <td>1</td>\n",
       "      <td>0</td>\n",
       "      <td>0</td>\n",
       "      <td>0</td>\n",
       "      <td>0</td>\n",
       "      <td>0</td>\n",
       "      <td>...</td>\n",
       "      <td>0</td>\n",
       "      <td>1</td>\n",
       "      <td>0</td>\n",
       "      <td>0</td>\n",
       "      <td>0</td>\n",
       "      <td>1</td>\n",
       "      <td>0</td>\n",
       "      <td>0</td>\n",
       "      <td>0</td>\n",
       "      <td>1</td>\n",
       "    </tr>\n",
       "    <tr>\n",
       "      <th>10</th>\n",
       "      <td>500.00</td>\n",
       "      <td>2016.0</td>\n",
       "      <td>0.000000</td>\n",
       "      <td>0.0</td>\n",
       "      <td>1</td>\n",
       "      <td>0</td>\n",
       "      <td>0</td>\n",
       "      <td>0</td>\n",
       "      <td>0</td>\n",
       "      <td>0</td>\n",
       "      <td>...</td>\n",
       "      <td>0</td>\n",
       "      <td>1</td>\n",
       "      <td>0</td>\n",
       "      <td>0</td>\n",
       "      <td>0</td>\n",
       "      <td>1</td>\n",
       "      <td>0</td>\n",
       "      <td>0</td>\n",
       "      <td>0</td>\n",
       "      <td>1</td>\n",
       "    </tr>\n",
       "  </tbody>\n",
       "</table>\n",
       "<p>5 rows × 46 columns</p>\n",
       "</div>"
      ],
      "text/plain": [
       "    InvoiceAmount  InvoiceYear  Days_to_Enter  ConfirmedRisk  \\\n",
       "0            1.78       2016.0      20.952042            0.0   \n",
       "7           77.22       2016.0      20.952042            0.0   \n",
       "8          154.44       2016.0      20.952042            0.0   \n",
       "9          300.00       2016.0       0.000000            0.0   \n",
       "10         500.00       2016.0       0.000000            0.0   \n",
       "\n",
       "    AmountCategory_100-1k  AmountCategory_10k-100k  AmountCategory_1k-10k  \\\n",
       "0                       0                        0                      0   \n",
       "7                       0                        0                      0   \n",
       "8                       1                        0                      0   \n",
       "9                       1                        0                      0   \n",
       "10                      1                        0                      0   \n",
       "\n",
       "    AmountCategory_<100  AmountCategory_>100k  PaymentStatus_#  ...  \\\n",
       "0                     1                     0                0  ...   \n",
       "7                     1                     0                0  ...   \n",
       "8                     0                     0                0  ...   \n",
       "9                     0                     0                0  ...   \n",
       "10                    0                     0                0  ...   \n",
       "\n",
       "    Invoicecurrency_EUR  Invoicecurrency_GBP  Invoicecurrency_NOK  \\\n",
       "0                     0                    1                    0   \n",
       "7                     0                    1                    0   \n",
       "8                     0                    1                    0   \n",
       "9                     0                    1                    0   \n",
       "10                    0                    1                    0   \n",
       "\n",
       "    Invoicecurrency_PLN  Invoicecurrency_USD  Client_A  Client_B  Client_C  \\\n",
       "0                     0                    0         1         0         0   \n",
       "7                     0                    0         1         0         0   \n",
       "8                     0                    0         1         0         0   \n",
       "9                     0                    0         1         0         0   \n",
       "10                    0                    0         1         0         0   \n",
       "\n",
       "    InvoiceType_Credit  InvoiceType_Invoice  \n",
       "0                    0                    1  \n",
       "7                    0                    1  \n",
       "8                    0                    1  \n",
       "9                    0                    1  \n",
       "10                   0                    1  \n",
       "\n",
       "[5 rows x 46 columns]"
      ]
     },
     "execution_count": 12,
     "metadata": {},
     "output_type": "execute_result"
    }
   ],
   "source": [
    "df.head()"
   ]
  },
  {
   "cell_type": "markdown",
   "metadata": {},
   "source": [
    "# Normalize data"
   ]
  },
  {
   "cell_type": "code",
   "execution_count": 13,
   "metadata": {},
   "outputs": [],
   "source": [
    "from sklearn.preprocessing import MinMaxScaler\n",
    "\n",
    "\n",
    "df[list(df.columns)] = MinMaxScaler().fit_transform(df[list(df.columns)])"
   ]
  },
  {
   "cell_type": "markdown",
   "metadata": {},
   "source": [
    "# Class Balance"
   ]
  },
  {
   "cell_type": "code",
   "execution_count": 14,
   "metadata": {},
   "outputs": [],
   "source": [
    "X = df.drop(\"ConfirmedRisk\", axis=1)\n",
    "y = df[\"ConfirmedRisk\"]"
   ]
  },
  {
   "cell_type": "code",
   "execution_count": 15,
   "metadata": {},
   "outputs": [
    {
     "name": "stdout",
     "output_type": "stream",
     "text": [
      "Class Balance Counter({0.0: 1090212, 1.0: 4056})\n"
     ]
    }
   ],
   "source": [
    "from collections import Counter\n",
    "\n",
    "print (f\"Class Balance {Counter(y)}\")"
   ]
  },
  {
   "cell_type": "markdown",
   "metadata": {},
   "source": [
    "The problem suffers from extremly imbalanced classes. SMOTE algorithm can be used to tackle the problem."
   ]
  },
  {
   "cell_type": "code",
   "execution_count": 16,
   "metadata": {},
   "outputs": [
    {
     "name": "stdout",
     "output_type": "stream",
     "text": [
      "Class balance in training data: \t Counter({0.0: 545106, 1.0: 2028})\n"
     ]
    }
   ],
   "source": [
    "from sklearn.model_selection import train_test_split\n",
    "\n",
    "X_train, X_test, y_train, y_test = train_test_split( X, y, test_size=0.5, random_state=42, stratify=y)\n",
    "\n",
    "print(f\"Class balance in training data: \\t {Counter(y_train)}\")"
   ]
  },
  {
   "cell_type": "code",
   "execution_count": 17,
   "metadata": {},
   "outputs": [
    {
     "name": "stdout",
     "output_type": "stream",
     "text": [
      "Class balance in training data after BorderlineSmote Oversampling: \t Counter({0.0: 545106, 1.0: 545106})\n"
     ]
    }
   ],
   "source": [
    "from imblearn.over_sampling import BorderlineSMOTE\n",
    "\n",
    "bsmote = BorderlineSMOTE(sampling_strategy=\"minority\", random_state=42)\n",
    "\n",
    "\n",
    "X_bsm_train, y_bsm_train = bsmote.fit_resample(X_train, y_train)\n",
    "\n",
    "\n",
    "print (f\"Class balance in training data after BorderlineSmote Oversampling: \\t {Counter(y_bsm_train)}\")"
   ]
  },
  {
   "cell_type": "markdown",
   "metadata": {},
   "source": [
    "# Logistic Regression"
   ]
  },
  {
   "cell_type": "code",
   "execution_count": 18,
   "metadata": {},
   "outputs": [
    {
     "name": "stderr",
     "output_type": "stream",
     "text": [
      "C:\\Users\\gerasimos\\anaconda3\\lib\\site-packages\\sklearn\\linear_model\\_logistic.py:763: ConvergenceWarning: lbfgs failed to converge (status=1):\n",
      "STOP: TOTAL NO. of ITERATIONS REACHED LIMIT.\n",
      "\n",
      "Increase the number of iterations (max_iter) or scale the data as shown in:\n",
      "    https://scikit-learn.org/stable/modules/preprocessing.html\n",
      "Please also refer to the documentation for alternative solver options:\n",
      "    https://scikit-learn.org/stable/modules/linear_model.html#logistic-regression\n",
      "  n_iter_i = _check_optimize_result(\n"
     ]
    },
    {
     "name": "stdout",
     "output_type": "stream",
     "text": [
      "[[520873  24233]\n",
      " [   440   1588]]\n",
      "              precision    recall  f1-score   support\n",
      "\n",
      "         0.0       1.00      0.96      0.98    545106\n",
      "         1.0       0.06      0.78      0.11      2028\n",
      "\n",
      "    accuracy                           0.95    547134\n",
      "   macro avg       0.53      0.87      0.55    547134\n",
      "weighted avg       1.00      0.95      0.97    547134\n",
      "\n",
      "AUROC: 0.8692909507834283\n"
     ]
    }
   ],
   "source": [
    "from sklearn.linear_model import LogisticRegression\n",
    "from sklearn.metrics import classification_report, confusion_matrix, accuracy_score, roc_auc_score\n",
    "\n",
    "clf = LogisticRegression()\n",
    "clf.fit(X_bsm_train, y_bsm_train)\n",
    "\n",
    "y_preds = clf.predict(X_test)\n",
    "\n",
    "print(confusion_matrix(y_test, y_preds))\n",
    "print(classification_report(y_test, y_preds))\n",
    "\n",
    "print(f\"AUROC: {roc_auc_score(y_test, y_preds)}\")"
   ]
  },
  {
   "cell_type": "markdown",
   "metadata": {},
   "source": [
    "# ------------------------------------------------------------------------------------------------------------"
   ]
  },
  {
   "cell_type": "markdown",
   "metadata": {},
   "source": [
    "# Future Work"
   ]
  },
  {
   "cell_type": "markdown",
   "metadata": {},
   "source": [
    "- Test the performance of the model on each one of the three clients\n",
    "- Try to train 3 different models (one for each client) instead of one model for all of them\n",
    "- Try other models (SVM, Random Forest, XGBoost, LightGBM, ...)\n",
    "- Could try Feature Selection & Hyperparameter Tuning\n",
    "- Try XAI tools to increase explainability of the models"
   ]
  },
  {
   "cell_type": "code",
   "execution_count": null,
   "metadata": {},
   "outputs": [],
   "source": []
  }
 ],
 "metadata": {
  "kernelspec": {
   "display_name": "Python 3",
   "language": "python",
   "name": "python3"
  },
  "language_info": {
   "codemirror_mode": {
    "name": "ipython",
    "version": 3
   },
   "file_extension": ".py",
   "mimetype": "text/x-python",
   "name": "python",
   "nbconvert_exporter": "python",
   "pygments_lexer": "ipython3",
   "version": "3.8.5"
  }
 },
 "nbformat": 4,
 "nbformat_minor": 4
}
